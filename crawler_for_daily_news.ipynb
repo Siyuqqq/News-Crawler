{
 "cells": [
  {
   "cell_type": "code",
   "execution_count": null,
   "metadata": {},
   "outputs": [],
   "source": [
    "# publication name, date, byline, section and  headlines"
   ]
  },
  {
   "cell_type": "code",
   "execution_count": 3,
   "metadata": {},
   "outputs": [],
   "source": [
    "#crawl ['title', 'author', 'time', 'section', 'byline_list', 'url']\n",
    "## Got Ban From each website , robot detection\n",
    "\n",
    "\n",
    "import re\n",
    "import requests\n",
    "import json\n",
    "import os\n",
    "\n",
    "\n",
    "def get_html(url):\n",
    "    try:\n",
    "        html = getHTMLText(url)\n",
    "        return html\n",
    "    except:\n",
    "        print(\"failed connect\")\n",
    "\n",
    "\n",
    "def getHTMLText(url):\n",
    "    try:\n",
    "        r = requests.get(url)\n",
    "        r.raise_for_status()\n",
    "        r.encoding = r.apparent_encoding\n",
    "        return r.text\n",
    "    except:\n",
    "        return ''\n",
    "    \n",
    "# def crawl_url(url):\n",
    "#     #download sitemap file\n",
    "#     sitemap = get_html(url)\n",
    "#     #extract the sitemap links\n",
    "#     links = re.findall('<loc>(.*?)</loc>',sitemap)\n",
    "    \n",
    "#     return links\n",
    "    \n",
    "def reHtml(htmlContent):\n",
    "    # title\n",
    "    title = re.findall(r'<h1 class=\"lede-text-v2__hed\">(.*?)</h1>', htmlContent, re.DOTALL)[0].strip()\n",
    "\n",
    "    # author\n",
    "    author = re.findall(r'<a class=\"author-v2__byline\".*?>(.*?)</a>', htmlContent, re.DOTALL)[0].strip()\n",
    "\n",
    "    # time\n",
    "    time = re.findall(r'<time.*?<noscript>(.*?)</noscript>.*?</time>', htmlContent, re.DOTALL)[0].strip()\n",
    "\n",
    "    # section\n",
    "    section = re.findall(r'<div class=\"eyebrow-v2\">(.*?)</div>', htmlContent, re.DOTALL)[0].strip()\n",
    "\n",
    "    # byline\n",
    "    byline_list = re.findall(r'<div class=\"abstract-v2__item-text\">(.*?)</div>', htmlContent, re.DOTALL)\n",
    "    \n",
    "    return title, author, time, section, byline_list\n",
    "\n",
    "# Date\n",
    "def judgeDate(time):\n",
    "    day = int(re.findall(r'March (\\d\\d), 2020', time)[0])\n",
    "    if 18 < day < 26:\n",
    "        return True\n",
    "    else:\n",
    "        return False\n",
    "\n",
    "def generateData(links):\n",
    "    '''\n",
    "    {'NewsTitle': {'title': NewsTitle, 'author': James, \n",
    "    'time': 'March 15, 2020, 6:57 PM EDT', \n",
    "    'section': 'Business', 'byline_list': ['l1', 'l2']}}\n",
    "    '''\n",
    "    data = {}\n",
    "    keys = ['title', 'author', 'time', 'section', 'byline_list', 'url', 'The']\n",
    "    \n",
    "    for link in links:\n",
    "        htmlContent = get_html(link) \n",
    "        print(htmlContent)\n",
    "        title, author, time, section, byline_list = reHtml(htmlContent)\n",
    "        info = {}\n",
    "        info['title'], info['author'], info['time'], info['section'], info['byline_list'], info['url'] = title, author, time, section, byline_list, link\n",
    "        data[title] = info\n",
    "    return data\n",
    "\n",
    "# if __name__ == '__main__':\n",
    "#     file1 = open('urls.txt','a')\n",
    "#     file2 = open('htmls.txt','a')\n",
    "    \n",
    "#     links = crawl_sitemap('https://www.bloomberg.com/feeds/bbiz/sitemap_news.xml')\n",
    "    \n",
    "#     data = generateData(links)\n",
    "    \n",
    "#     with open('data.txt', 'w') as outfile:\n",
    "#         json.dump(data, outfile)\n"
   ]
  },
  {
   "cell_type": "code",
   "execution_count": 4,
   "metadata": {},
   "outputs": [],
   "source": [
    "#crawl only headlines\n",
    "\n",
    "def crawl_sitemap(url):\n",
    "    #download sitemap file\n",
    "    sitemap = get_html(url)\n",
    "    #extract the sitemap links\n",
    "    links = re.findall('<loc>(.*?)</loc>',sitemap)\n",
    "    titles = re.findall('<news:title>(.*?)</news:title>',sitemap)\n",
    "    times = re.findall('<news:publication_date>(.*?)<news:publication_date>', sitemap)\n",
    "    return links, titles, times\n",
    "    \n",
    "\n",
    "if __name__ == '__main__':\n",
    "    links_BB, titles_BB, times_BB = crawl_sitemap('https://www.bloomberg.com/feeds/bbiz/sitemap_news.xml')\n",
    "    links_WSJ, titles_WSJ, times_WSJ = crawl_sitemap('https://www.wsj.com/wsjsitemaps/wsj_google_news.xml')\n",
    "    links_FT, titles_FT, times_FT = crawl_sitemap('https://www.ft.com/sitemaps/news.xml')\n",
    "    links = links_BB + links_WSJ + links_FT\n",
    "    titles = titles_BB + titles_WSJ + titles_FT\n",
    "    times = times_BB + times_WSJ + times_FT\n",
    "    "
   ]
  },
  {
   "cell_type": "code",
   "execution_count": 8,
   "metadata": {},
   "outputs": [
    {
     "name": "stderr",
     "output_type": "stream",
     "text": [
      "[nltk_data] Downloading package punkt to /Users/siyuqiu/nltk_data...\n",
      "[nltk_data]   Package punkt is already up-to-date!\n",
      "[nltk_data] Downloading package wordnet to /Users/siyuqiu/nltk_data...\n",
      "[nltk_data]   Package wordnet is already up-to-date!\n",
      "[nltk_data] Downloading package stopwords to\n",
      "[nltk_data]     /Users/siyuqiu/nltk_data...\n",
      "[nltk_data]   Package stopwords is already up-to-date!\n"
     ]
    }
   ],
   "source": [
    "# Prepocessing text\n",
    "import nltk\n",
    "from nltk.stem import WordNetLemmatizer\n",
    "from nltk.corpus import stopwords\n",
    "nltk.download('punkt')\n",
    "nltk.download('wordnet')\n",
    "nltk.download('stopwords')\n",
    "ignore_word = set(['apos','With', 'Says', 'Bloomberg', 'Day', 'Be', 'Is', 'To', 'The', 'Letter', 'business', 'How', 'Amid'])\n",
    "#use for word search for title\n",
    "dic = {}\n",
    "#use for raw text data\n",
    "total_words = []\n",
    "for s in titles:\n",
    "    #filter the content in () ex. (article) (radio)/ (podcast)\n",
    "    s = re.sub(u\"\\\\(.*?\\\\)|\\\\{.*?}|\\\\[.*?]\", \"\", s)\n",
    "    #tokenize\n",
    "    raw_words = nltk.word_tokenize(s)\n",
    "    wordnet_lematizer = WordNetLemmatizer()\n",
    "    words = [wordnet_lematizer.lemmatize(raw_word) for raw_word in raw_words]\n",
    "    #filter\n",
    "    filtered_words = [word.lower() for word in words if word not in stopwords.words('english') and word.isalpha() and word not in ignore_word]\n",
    "    total_words += [word for word in filtered_words]\n",
    "    filtered_words_set = {word for word in filtered_words}\n",
    "    dic[s] = filtered_words_set"
   ]
  },
  {
   "cell_type": "code",
   "execution_count": 9,
   "metadata": {},
   "outputs": [
    {
     "name": "stdout",
     "output_type": "stream",
     "text": [
      "[('coronavirus', 58), ('virus', 30), ('lockdown', 21), ('us', 19), ('new', 15), ('uk', 14), ('crisis', 13), ('oil', 13), ('pandemic', 12), ('trump', 11)]\n"
     ]
    }
   ],
   "source": [
    "#most frequent word daily\n",
    "from nltk import FreqDist\n",
    "freq_dist = FreqDist(total_words) \n",
    "most_common_freq = freq_dist.most_common(10)\n",
    "most_common = [word[0] for word in most_common_freq]\n",
    "print(most_common_freq)"
   ]
  },
  {
   "cell_type": "code",
   "execution_count": 10,
   "metadata": {},
   "outputs": [
    {
     "name": "stdout",
     "output_type": "stream",
     "text": [
      "{'coronavirus': ['Dorsey Pledges $1 Billion to Coronavirus Fight: Donation Tracker', 'U.K. Reports Its Deadliest Day With 786 Coronavirus Deaths', 'When and How Will the Coronavirus Pandemic End?', 'Metzl Says AI Will Aid in Fighting Coronavirus ', 'Coronavirus Blew Up Your Forecast – Now What?', 'Coronavirus tracked: the latest figures as the pandemic spreads | Free to read', 'Coronavirus latest: Trump says US to put hold on its WHO funding', 'Donald Trump removes watchdog tapped to oversee coronavirus relief', 'EU science chief resigns with blast at coronavirus response', 'Asos raises £240m in share placing to deal with coronavirus', 'Tesco urged to pay dividend despite coronavirus', 'FCA plan focuses on consumer protection long after coronavirus', 'Deaths from coronavirus far higher in England than first reported', 'Flexible offices could yet return to favour after coronavirus\\xa0', 'Coronavirus: remedies for a health crisis', 'Economists are united in support of the coronavirus lockdown', 'Cineworld chiefs defer pay as coronavirus closes cinemas', 'ECB data show eurozone banks had weak profits before coronavirus', 'The CEO’s coronavirus conundrum: how much pay to sacrifice?', 'Ventilator shortage threatens to cripple India’s coronavirus response', 'Japan gambles on partial lockdown to control coronavirus', 'Copycat coronavirus policies will soon come to an end', 'Data can be a powerful tool against coronavirus', 'Wellcome seeks $8bn from business to fight coronavirus', 'How China’s surveillance tech became my unlikely coronavirus ally', 'Coronavirus Diaries: Martin Wolf on the pain of family separation | Free to read', 'Belarus faces growing criticism for dismissive coronavirus response', 'Don’t let coronavirus derail your financial plans', 'Coping with coronavirus: An Italian business confronts life under lockdown', 'Coronavirus: how frontline NHS medics are coping ', 'Coronavirus: how your computer could help find a vaccine', 'Leadership challenges on the coronavirus frontline', 'Markets still too sanguine about coronavirus threat', 'Coronavirus: Trump and Biden discuss outbreak in 15-minute call — as it happened', 'Printing money is valid response to coronavirus crisis', 'Iran steps up support for citizens as it eases coronavirus controls', 'DMGT and Reach cut pay amid coronavirus downturn\\xa0', ' Coronavirus: What financial support are you entitled to? Your questions answered', 'UK parliament has been shamefully missing in coronavirus crisis', 'Deborah Birx: the US colonel at war with coronavirus', 'Boris Johnson to remain in hospital for coronavirus tests', 'UK car sales plunge amid coronavirus lockdown', 'Business disruption insurance: can it help with coronavirus?', 'Coronavirus is unlikely to challenge the dollar’s dominance', 'Coronavirus pandemic deals heavy blow to UK construction activity', 'Coronavirus delays could trigger legal challenges for London construction', 'Boris Johnson in hospital with coronavirus symptoms\\xa0', 'Opening Quote: Investors take comfort from latest coronavirus data', 'Rohingya brace for coronavirus pandemic', 'Coronavirus: Is Europe losing Italy?\\xa0', 'Coronavirus crisis prompts German rethink on eurobonds', 'City of London hiring grinds to a halt over coronavirus\\xa0', 'Lebanon’s Hizbollah mobilises for\\xa0‘battle’ against coronavirus', 'Coronavirus opens up the NHS for health tech entrepreneurs', 'Coronavirus poses big test for Northern Ireland\\xa0', 'Trump cites hopeful signs in US coronavirus fight', 'Coronavirus: why the world should care about India', 'Coronavirus: Queen tells British people self-isolation ‘the right thing to do’ — as it happened'], 'virus': ['Dorsey Pledges $1 Billion of Square Stake for Virus Relief', 'Wuhan Reopens; U.K., New York Have Deadliest Days: Virus Update', 'Here’s How the Virus Is Impacting Australian Firms', 'France Reports Fewer New Virus Cases as Deaths Rise Sharply', 'U.K., New York Have Deadliest Day; Trump Rips WHO: Virus Update', 'In Gulf’s Oil Rigs, Crews Fight Virus to Keep Crude Flowing', 'N.J. Mirrors N.Y. With Slowing Virus Rate, Jump in Deaths', 'Brexit Negotiators Want To Start Talking Despite Virus Setbacks', 'State of Emergency Declared in Tokyo, Global Virus Cases Top 1.37 Million', 'ECB Helps Greek Plans for New Debt to Fight Virus Pandemic', 'Barclays Executives Donate Third of Fixed Pay to Virus Charities', 'You’ve Been Served: Court Notices Carry New Risks Amid Virus', 'More Than 1 Billion Workers Face ‘Drastic’ Hit From Virus', 'IATA Says Nations Must Avoid Post-9/11 Travel Mayhem After Virus', 'Lufthansa to Slash Fleet, Shutter Germanwings in Virus Response', 'N.Y. Sees Third-Straight Day of Slowing Virus Infections', 'Norway Starts Easing Restrictions With Virus\\xa0Seen as Under Control', 'Want a Virus Disaster Loan Fast? Easy, If You’re in California', 'Steve Schwarzman Sees Virus Wiping $5 Trillion From GDP', 'Singapore to Ban Private Gatherings of Friends to Stem Virus', 'Japan Pins Virus Hopes on Flu Drug, Boosting Fujifilm', 'UBS Says Europe Companies Ready to Restart Deals After Virus', 'Japan Unveils Record $992 Billion Stimulus Amid Virus Emergency', 'Virus Pandemic Just Picking Up in Emerging Markets, Says Johns Hopkins&apos; Rebucci', 'Ghana Urged to Consider Tax Breaks to Ease Blow From Virus', 'Swiss group says its machines can conduct 30m virus antibody tests this year\\xa0\\xa0', 'US stocks in sharp late rally on hopes virus is slowing', 'Virus hampers repatriation of 4,000 crew on cruise ships off UK', 'Bailey rejects monetary financing as tool in virus crisis', 'South Korea’s factories stretched to limit churning out virus tests'], 'lockdown': ['Lockdown Lifted in Wuhan, But Web of Restrictions Remains', 'Shopping Boss Only Indian Tycoon to Get Richer Under Lockdown', 'Ship Crews Stuck in Lockdown Strain Global Supply Chains', 'India Jobless Rate Is Above 23% Amid Lockdown, Survey Shows', 'India’s Massive Lockdown Sees Trucking Skid to a Halt', 'UK looks to learn from German mass tests in quest to end lockdown', 'Presidential primary in Wisconsin proceeds despite lockdown\\xa0', 'Lockdown literature has a sting in its tale', 'Economists are united in support of the coronavirus lockdown', 'Japan gambles on partial lockdown to control coronavirus', 'Coping with coronavirus: An Italian business confronts life under lockdown', 'Lockdown denies Wuhan the chance to mourn its dead ', 'Lockdown enters its third week', 'Live From Our Living Rooms Festival — jazz for the lockdown age', 'UK looks to Italy and China for clues on lockdown exit strategy', 'Quibi launches $1.8bn bet on mobile video amid global lockdown', 'Europe’s construction activity collapses as lockdown hits builders', 'UK car sales plunge amid coronavirus lockdown', 'Austria set to be first European country to ease lockdown', 'Consumer confidence plummets to 2008 levels after UK lockdown', 'Hancock backtracks on tightening lockdown rules'], 'us': ['Coronavirus latest: Trump says US to put hold on its WHO funding', 'Acting US navy head resigns over carrier controversy', 'Samsung shares create Korea headache for US investors', 'US to review troop presence in Iraq', 'Emerging market stocks drop to record discount to US', 'Income of 73% in US hit by outbreak — FT-Peterson poll', 'Trump ally highlights US oil cuts as White House pushes for Russia-Saudi curbs', 'US small business rescue runs into operational difficulties', 'Texas: how the home of US oil and gas fell in love with solar power', 'What’s under the mattress at US mega-caps?', 'Correction: US jobs', 'US stocks in sharp late rally on hopes virus is slowing', 'US report reveals hospitals’ struggle with shortages\\xa0 \\xa0\\xa0', 'US designates Russian white supremacist group as terrorists\\xa0', 'Investors fear more big hits for bonds backed by US consumer loans ', 'Deborah Birx: the US colonel at war with coronavirus', 'US shareholders brace for nine-year squeeze on dividends', 'The US must act to protect its most vulnerable workers', 'Trump cites hopeful signs in US coronavirus fight'], 'new': ['Wuhan Reopens; U.K., New York Have Deadliest Days: Virus Update', 'The 2021 Porsche 911 Turbo S Sets a New Benchmark for Sports Cars', 'France Reports Fewer New Virus Cases as Deaths Rise Sharply', 'U.K., New York Have Deadliest Day; Trump Rips WHO: Virus Update', 'New York Lt. Gov. Hochul Warns Against Complacency', 'ECB Helps Greek Plans for New Debt to Fight Virus Pandemic', 'You’ve Been Served: Court Notices Carry New Risks Amid Virus', 'France Uses New Measure to Calculate 35% of Economy Is Shut', 'When the aim of the game is to create a new game', 'The new wave of radio drama bringing plays to your home', 'Letter: Perhaps the new alpha mantra should be ESG materiality', 'Airbnb raises $1bn from new investors', 'From guitar accessories to medical gear, a start-up\\xa0pivots to a new era', 'Union boss calls for new social pact in France ', 'Letter: Comparing the data needs a new approach'], 'uk': ['Boris Johnson’s Illness Highlights UK’s Unpreparedness ', 'UK looks to learn from German mass tests in quest to end lockdown', 'Dominic Raab steps into UK’s constitutional breach', 'UK fashion suppliers warn of wipeout', 'UK private schools feel pandemic squeeze', 'Virus hampers repatriation of 4,000 crew on cruise ships off UK', 'UK looks to Italy and China for clues on lockdown exit strategy', 'UK parliament has been shamefully missing in coronavirus crisis', 'UK government admits Covid-19 antibody tests don’t work', 'VW suffers big setback in one of UK’s largest consumer lawsuits', 'UK car sales plunge amid coronavirus lockdown', 'Coronavirus pandemic deals heavy blow to UK construction activity', 'Letter: Make personal protective equipment mandatory for everyone in the UK', 'Consumer confidence plummets to 2008 levels after UK lockdown'], 'crisis': ['Airbnb in Talks to Raise More Debt Amid Global Crisis', 'U.S. Labs Face Crisis After Crisis Despite Improvements in Testing', 'Fed Can and Should Take More Risk Than It Did During &apos;08 Crisis, Tarullo Says', 'Coronavirus: remedies for a health crisis', 'Printing money is valid response to coronavirus crisis', 'UK parliament has been shamefully missing in coronavirus crisis', 'Swiss lead way with crisis loans to small businesses', 'The big banks have a giant role to play in this crisis', 'Bailey rejects monetary financing as tool in virus crisis', 'Advent eyes once-elusive takeover targets amid crisis\\xa0', 'Coronavirus crisis prompts German rethink on eurobonds', 'Eurozone struggles to forge deal over economic crisis\\xa0'], 'oil': ['Need Oil Storage? One Firm Suggests Bagging It Like Boxed Wine', 'Balance of Power: Mark Begich, Oil, Distance Learning ', 'In Gulf’s Oil Rigs, Crews Fight Virus to Keep Crude Flowing', 'Oil Companies Warn Kansas City Fed of Widespread Insolvencies', 'Exxon’s $10 Billion Spending Cut Won’t Stop Shale Oil’s Growth', 'U.S. Oil Services Industry Will Be &apos;Crushed&apos; Without Cuts, Parsley CEO Says', 'Why China’s state oil company merger looks like an unusual step', 'Trump ally highlights US oil cuts as White House pushes for Russia-Saudi curbs', 'Texas: how the home of US oil and gas fell in love with solar power', 'G20 oil ministers to hold emergency meeting on Friday', 'Oil price falls on doubts over Saudi-Russia supply deal', 'Iraq warns over threat to public sector pay from oil price collapse', 'Covid-19 on emerging markets, possible oil tariffs'], 'pandemic': ['Illinois Faces Rising Risk of Cut to Junk Over Pandemic Hit', 'ECB Helps Greek Plans for New Debt to Fight Virus Pandemic', 'When and How Will the Coronavirus Pandemic End?', 'Scotiabank’s $10.7 Billion Tech Spend Is Paying Off in Pandemic', 'Goldman, Morgan Stanley Alter Summer Internships Amid Pandemic', 'Virus Pandemic Just Picking Up in Emerging Markets, Says Johns Hopkins&apos; Rebucci', 'Coronavirus tracked: the latest figures as the pandemic spreads | Free to read', 'Singapore plans measures for voting during a pandemic', 'Euro members face moment of truth in pandemic battle', 'UK private schools feel pandemic squeeze', 'Coronavirus pandemic deals heavy blow to UK construction activity', 'Rohingya brace for coronavirus pandemic'], 'trump': ['Trump Praises Banks for Small Firm Aid Amid Loan Fund Issues', 'Trump Team Preps Plans to Reopen Economy That Depend on Testing', 'U.K., New York Have Deadliest Day; Trump Rips WHO: Virus Update', 'Warren Joins Senators Seeking Deutsche Bank Details on Trump', 'Coronavirus latest: Trump says US to put hold on its WHO funding', 'Donald Trump removes watchdog tapped to oversee coronavirus relief', 'Trump reaches respirator mask deal with 3M', 'Trump ally highlights US oil cuts as White House pushes for Russia-Saudi curbs', 'Coronavirus: Trump and Biden discuss outbreak in 15-minute call — as it happened', 'Donald Trump’s support rallies around his flag in the Midwest', 'Trump cites hopeful signs in US coronavirus fight']}\n"
     ]
    }
   ],
   "source": [
    "#titles which contain most frequent word\n",
    "common_word_title_dic = {}\n",
    "for word in most_common:\n",
    "    common_word_title_dic[word] = []\n",
    "    for k in dic:\n",
    "        if word in dic[k]:\n",
    "            common_word_title_dic[word].append(k)\n",
    "print(common_word_title_dic)"
   ]
  },
  {
   "cell_type": "code",
   "execution_count": null,
   "metadata": {},
   "outputs": [],
   "source": []
  },
  {
   "cell_type": "code",
   "execution_count": null,
   "metadata": {},
   "outputs": [],
   "source": []
  }
 ],
 "metadata": {
  "kernelspec": {
   "display_name": "Python 3",
   "language": "python",
   "name": "python3"
  },
  "language_info": {
   "codemirror_mode": {
    "name": "ipython",
    "version": 3
   },
   "file_extension": ".py",
   "mimetype": "text/x-python",
   "name": "python",
   "nbconvert_exporter": "python",
   "pygments_lexer": "ipython3",
   "version": "3.7.3"
  }
 },
 "nbformat": 4,
 "nbformat_minor": 2
}
